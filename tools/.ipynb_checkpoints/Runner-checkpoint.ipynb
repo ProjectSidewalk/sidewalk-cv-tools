{
 "cells": [
  {
   "cell_type": "code",
   "execution_count": 1,
   "metadata": {},
   "outputs": [
    {
     "name": "stdout",
     "output_type": "stream",
     "text": [
      "Dict is 6718\n",
      "Couldn't get crop size for (16377.814222222223,4732.0)... skipping box\n",
      "Couldn't get crop size for (16372.377777777778,4601.0)... skipping box\n",
      "Couldn't get crop size for (13301.164963555555,3793.0)... skipping box\n",
      "Couldn't get crop size for (16359.228444444445,5218.0)... skipping box\n",
      "Couldn't get crop size for (16376.756444444443,4982.0)... skipping box\n",
      "Couldn't get crop size for (16368.40243911111,4475.0)... skipping box\n",
      "Number of annotations is 586\n",
      "Program took: 33.815028949578604\n"
     ]
    }
   ],
   "source": [
    "import os\n",
    "import time \n",
    "start = time.time()\n",
    "path_to_panos = \"D:\\\\SeattleImages\\\\validation\\\\panos\\\\new_seattle_panos\"\n",
    "path_to_file = \"labels-seattle.csv\"\n",
    "final_file = \"annotations.txt\"\n",
    "import generate_annotations as test \n",
    "test.make_annotation_file(path_to_panos,path_to_file,final_file)\n",
    "end = time.time()\n",
    "print(\"Program took: \" + str((end - start)/60.0))"
   ]
  },
  {
   "cell_type": "code",
   "execution_count": 1,
   "metadata": {},
   "outputs": [
    {
     "name": "stdout",
     "output_type": "stream",
     "text": [
      "Already have results for 489 items\n",
      "Need to get results for: 2244\n",
      "Number of new labels to consider: 2244\n"
     ]
    },
    {
     "name": "stderr",
     "output_type": "stream",
     "text": [
      "C:\\Users\\deves\\Anaconda3\\lib\\site-packages\\PIL\\Image.py:2600: DecompressionBombWarning: Image size (134217728 pixels) exceeds limit of 89478485 pixels, could be decompression bomb DOS attack.\n",
      "  DecompressionBombWarning)\n"
     ]
    },
    {
     "name": "stdout",
     "output_type": "stream",
     "text": [
      "Created 2082 new crops\n",
      "Delted a old compeltelabels file\n",
      "Building dataset and loading model...\n",
      "Using dataloader that supplies 12 extra features.\n",
      "\n",
      "Finished loading data. Got crops from 2 panos.\n",
      "Computing predictions....\n",
      "\tWrote 2 predictions to single\\completelabels.csv.\n",
      "Number of new labels is 2082\n",
      "Program took: 50.19280111392339 minutes\n",
      "single\\summary2.csv\n",
      "Already have results for 2571 items\n",
      "Need to get results for: 14\n",
      "Number of new labels to consider: 14\n",
      "Created 0 new crops\n",
      "Delted a old compeltelabels file\n",
      "No new crops to run CV\n",
      "Number of new labels is 0\n",
      "Program took: 0.01836173931757609 minutes\n",
      "single\\summary3.csv\n",
      "Already have results for 2571 items\n",
      "Need to get results for: 3\n",
      "Number of new labels to consider: 3\n",
      "Created 0 new crops\n",
      "No new crops to run CV\n",
      "Number of new labels is 0\n",
      "Program took: 0.012351616223653158 minutes\n",
      "single\\summary4.csv\n",
      "Already have results for 2571 items\n",
      "Need to get results for: 1\n",
      "Number of new labels to consider: 1\n",
      "Created 0 new crops\n",
      "No new crops to run CV\n",
      "Number of new labels is 0\n",
      "Program took: 0.013278154532114665 minutes\n",
      "single\\summary5.csv\n",
      "Already have results for 2571 items\n",
      "Need to get results for: 1\n",
      "Number of new labels to consider: 1\n",
      "Created 0 new crops\n",
      "No new crops to run CV\n",
      "Number of new labels is 0\n",
      "Program took: 0.010414199034372965 minutes\n",
      "single\\summary6.csv\n"
     ]
    }
   ],
   "source": [
    "import sys\n",
    "sys.path.append(\"../\")\n",
    "sys.path.append(\"resources/\")\n",
    "import cv_tools as data\n",
    "\n",
    "path_to_panos_arr = [\"D:\", \"SeattleImages\", \"validation\", \"panos\", \"new_seattle_panos\"]\n",
    "path_to_panos = \"D:\\\\SeattleImages\\\\validation\\\\panos\\\\new_seattle_panos\"\n",
    "date_after = \"2018-06-28\"\n",
    "path_to_summary = \"single\"\n",
    "input_file = \"labels-seattle.csv\"\n",
    "for i in range(3,7):\n",
    "    print(data.generate_validation_data(input_file,path_to_panos, path_to_summary, number_agree = i, verbose = True))"
   ]
  },
  {
   "cell_type": "code",
   "execution_count": 7,
   "metadata": {},
   "outputs": [],
   "source": [
    "file = open(\"annotations.txt\",\"r\")\n",
    "lines = file.readlines()\n",
    "fixed = []\n",
    "for line in lines:\n",
    "    line = line[:len(line) - 1]\n",
    "    split = line.split(\",\")\n",
    "    for i in range(1,len(split) - 1):\n",
    "        split[i] = str(int(float(split[i])))\n",
    "    joined = \"\"\n",
    "    for part in split:\n",
    "        joined += part + \",\"\n",
    "    joined = joined[:len(joined) - 1]\n",
    "    joined = joined + \"\\n\"\n",
    "    fixed.append(joined)"
   ]
  },
  {
   "cell_type": "code",
   "execution_count": 8,
   "metadata": {},
   "outputs": [
    {
     "name": "stdout",
     "output_type": "stream",
     "text": [
      "468\n",
      "118\n"
     ]
    }
   ],
   "source": [
    "import random \n",
    "random.shuffle(fixed)\n",
    "number = int(0.8 * len(fixed))\n",
    "train = fixed[:number]\n",
    "test = fixed[number:]\n",
    "print(len(train))\n",
    "print(len(test))"
   ]
  },
  {
   "cell_type": "code",
   "execution_count": 9,
   "metadata": {},
   "outputs": [],
   "source": [
    "train_file = open(\"train_annotations.txt\",\"w+\")\n",
    "train_file.writelines(train)\n",
    "train_file.close()\n",
    "test_file = open(\"test_annotations.txt\",\"w+\")\n",
    "test_file.writelines(test)\n",
    "test_file.close()"
   ]
  },
  {
   "cell_type": "code",
   "execution_count": 14,
   "metadata": {},
   "outputs": [],
   "source": [
    "import os\n",
    "import shutil\n",
    "def moveimages(input_file,output_folder):\n",
    "    path_to_panos = \"D:\\\\SeattleImages\\\\validation\\\\panos\\\\new_seattle_panos\"\n",
    "    file = open(input_file,\"r\")\n",
    "    lines = file.readlines()\n",
    "    already = []\n",
    "    for line in lines:\n",
    "        pano_id = line.split(\",\")[0]\n",
    "        if(pano_id in already):\n",
    "            continue\n",
    "        already.append(pano_id)\n",
    "        complete = os.path.join(path_to_panos,pano_id[:2],pano_id)\n",
    "        if(os.path.exists(complete)):\n",
    "            end = os.path.join(output_folder,pano_id)\n",
    "            shutil.copy(complete,end)\n",
    "        else:\n",
    "            print(\"Can't find \" + complete)\n",
    "            \n",
    "moveimages(\"train_annotations.txt\",\"train_images\")"
   ]
  },
  {
   "cell_type": "code",
   "execution_count": 17,
   "metadata": {},
   "outputs": [],
   "source": [
    "base = \"/content/drive/My Drive/Colab/Faster_RCNN_for_Open_Images_Dataset_Keras/Storage/\"\n",
    "\n",
    "def change_path(start): \n",
    "    filename = start + \"_annotations.txt\"\n",
    "    file = open(filename,'r')\n",
    "    lines = file.readlines()\n",
    "    rows = []\n",
    "    for line in lines:\n",
    "        pano_id = line.split(\",\")[0]\n",
    "        line = line[:len(line) - 1]\n",
    "        split = line.split(\",\")\n",
    "        split[0] = base + start + \"/\" + split[0]\n",
    "        joined = \"\"\n",
    "        for part in split:\n",
    "            joined += part + \",\"\n",
    "        joined = joined[:len(joined) - 1]\n",
    "        joined = joined + \"\\n\"\n",
    "        rows.append(joined)\n",
    "    file.close()\n",
    "    output = start + \"_complete_annotations.txt\"\n",
    "    file = open(output,'w+')\n",
    "    file.writelines(rows)\n",
    "    file.close()\n",
    "\n",
    "change_path(\"train\")"
   ]
  },
  {
   "cell_type": "code",
   "execution_count": 19,
   "metadata": {},
   "outputs": [
    {
     "name": "stdout",
     "output_type": "stream",
     "text": [
      "True\n",
      "abc def\n",
      "False\n"
     ]
    }
   ],
   "source": [
    "line = \"abc def \\n\"\n",
    "print(\"\\n\" in line)\n",
    "line = line.strip()\n",
    "print(line)\n",
    "print(\"\\n\" in line)"
   ]
  },
  {
   "cell_type": "code",
   "execution_count": 3,
   "metadata": {},
   "outputs": [
    {
     "name": "stdout",
     "output_type": "stream",
     "text": [
      "D:SeattleImages\n"
     ]
    }
   ],
   "source": [
    "import os\n",
    "second = \"D:\"\n",
    "third = \"SeattleImages\"\n",
    "print(os.path.join(second,third))"
   ]
  },
  {
   "cell_type": "code",
   "execution_count": null,
   "metadata": {},
   "outputs": [],
   "source": []
  }
 ],
 "metadata": {
  "kernelspec": {
   "display_name": "Python 3",
   "language": "python",
   "name": "python3"
  },
  "language_info": {
   "codemirror_mode": {
    "name": "ipython",
    "version": 3
   },
   "file_extension": ".py",
   "mimetype": "text/x-python",
   "name": "python",
   "nbconvert_exporter": "python",
   "pygments_lexer": "ipython3",
   "version": "3.7.3"
  }
 },
 "nbformat": 4,
 "nbformat_minor": 2
}
