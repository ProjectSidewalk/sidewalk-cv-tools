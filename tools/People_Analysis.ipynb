{
 "cells": [
  {
   "cell_type": "code",
   "execution_count": 12,
   "metadata": {},
   "outputs": [
    {
     "name": "stdout",
     "output_type": "stream",
     "text": [
      "We have 13909 items\n"
     ]
    }
   ],
   "source": [
    "import csv \n",
    "\n",
    "works = {}\n",
    "\n",
    "def read_validation_data(input_file): \n",
    "    dict = {}\n",
    "    with open(input_file) as csvfile:\n",
    "        reader = csv.reader(csvfile, delimiter=',') \n",
    "        for row in reader: \n",
    "            pano_id = row[2]\n",
    "            x = row[3]\n",
    "            y = row[4]\n",
    "            agree = (row[5] == \"agree\")\n",
    "            labeltype = row[6]\n",
    "            complete = str(pano_id) + \",\" + str(x) + \",\" + str(y)\n",
    "            if complete in dict:\n",
    "                dict[complete].append(agree)\n",
    "            else:\n",
    "                dict[complete] = [labeltype,agree]\n",
    "    for key,value in dict.items():\n",
    "        if (False in value or \"False\" in value):\n",
    "            continue\n",
    "        works[key] = value\n",
    "\n",
    "read_validation_data(\"validations-seattle.csv\")\n",
    "print(\"We have \" + str(len(works)) + \" items\")"
   ]
  },
  {
   "cell_type": "code",
   "execution_count": 15,
   "metadata": {},
   "outputs": [
    {
     "name": "stdout",
     "output_type": "stream",
     "text": [
      "['NoCurbRamp', True]\n",
      "Current label is NoCurbRamp\n",
      "We have 3715 where 1 all agree\n",
      "We have 270 where 2 all agree\n",
      "We have 122 where 3 all agree\n",
      "We have 79 where 4 all agree\n",
      "We have 49 where 5 all agree\n",
      "We have 24 where 6 all agree\n",
      "We have 14 where 7 all agree\n",
      "We have 9 where 8 all agree\n",
      "We have 4 where 9 all agree\n",
      "We have 1 where 10 all agree\n",
      "Current label is Obstacle\n",
      "We have 1082 where 1 all agree\n",
      "We have 260 where 2 all agree\n",
      "We have 30 where 3 all agree\n",
      "We have 28 where 4 all agree\n",
      "We have 11 where 5 all agree\n",
      "We have 5 where 6 all agree\n",
      "We have 5 where 7 all agree\n",
      "We have 2 where 8 all agree\n",
      "We have 3 where 9 all agree\n",
      "We have 2 where 10 all agree\n",
      "We have 2 where 11 all agree\n",
      "We have 1 where 13 all agree\n",
      "We have 1 where 15 all agree\n",
      "Current label is CurbRamp\n",
      "We have 4674 where 1 all agree\n",
      "We have 398 where 2 all agree\n",
      "We have 143 where 3 all agree\n",
      "We have 52 where 4 all agree\n",
      "We have 24 where 5 all agree\n",
      "We have 5 where 6 all agree\n",
      "We have 2 where 7 all agree\n",
      "We have 2 where 8 all agree\n",
      "We have 1 where 9 all agree\n",
      "Current label is SurfaceProblem\n",
      "We have 2605 where 1 all agree\n",
      "We have 153 where 2 all agree\n",
      "We have 53 where 3 all agree\n",
      "We have 31 where 4 all agree\n",
      "We have 16 where 5 all agree\n",
      "We have 14 where 6 all agree\n",
      "We have 7 where 7 all agree\n",
      "We have 7 where 8 all agree\n",
      "We have 3 where 11 all agree\n"
     ]
    }
   ],
   "source": [
    "labels = [\"NoCurbRamp\", \"Obstacle\", \"CurbRamp\", \"SurfaceProblem\"]\n",
    "\n",
    "def analysis():\n",
    "    for label in labels:\n",
    "        print(\"Current label is \" + str(label))\n",
    "        values = {}\n",
    "        for key,value in works.items():\n",
    "            if(value[0] != label):\n",
    "                continue\n",
    "            current = len(value) - 1\n",
    "            if current in values:\n",
    "                values[current] += 1\n",
    "            else:\n",
    "                values[current] = 1\n",
    "        for key in sorted(values.keys()):\n",
    "            print(\"We have \" + str(values[key]) + \" where \" + str(key) + \" all agree\")\n",
    "            \n",
    "analysis()\n",
    "#No - 7 (28), #Obstacle - 5 (36) #Curb Ramp - 5 (34) #Surface - 6 (31)"
   ]
  },
  {
   "cell_type": "code",
   "execution_count": 10,
   "metadata": {},
   "outputs": [
    {
     "name": "stdout",
     "output_type": "stream",
     "text": [
      "For label NoCurbRamp we have: 47.47927927927928\n",
      "For label Obstacle we have: 54.253465346534654\n",
      "For label CurbRamp we have: 55.10469107551487\n",
      "For label SurfaceProblem we have: 49.390243902439025\n"
     ]
    }
   ],
   "source": [
    "import csv\n",
    "import os \n",
    "\n",
    "file = os.path.join(\"single\",\"summary.csv\")\n",
    "labels = [\"NoCurbRamp\", \"Obstacle\", \"CurbRamp\", \"SurfaceProblem\"]\n",
    "for label in labels:\n",
    "    sumof = 0\n",
    "    total = 0\n",
    "    with open(file) as csvfile: \n",
    "        csvreader = csv.reader(csvfile, delimiter=',') \n",
    "        for row in csvreader:\n",
    "            if(row[3] != label):\n",
    "                continue\n",
    "            total += 1\n",
    "            sumof += int(row[5])\n",
    "    print(\"For label \" + str(label) + \" we have: \" + str((1.0 * sumof)/total))"
   ]
  },
  {
   "cell_type": "code",
   "execution_count": null,
   "metadata": {},
   "outputs": [],
   "source": []
  }
 ],
 "metadata": {
  "kernelspec": {
   "display_name": "Python 3",
   "language": "python",
   "name": "python3"
  },
  "language_info": {
   "codemirror_mode": {
    "name": "ipython",
    "version": 3
   },
   "file_extension": ".py",
   "mimetype": "text/x-python",
   "name": "python",
   "nbconvert_exporter": "python",
   "pygments_lexer": "ipython3",
   "version": "3.7.3"
  }
 },
 "nbformat": 4,
 "nbformat_minor": 2
}
