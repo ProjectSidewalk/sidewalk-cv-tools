{
 "cells": [
  {
   "cell_type": "code",
   "execution_count": 1,
   "metadata": {},
   "outputs": [
    {
     "name": "stdout",
     "output_type": "stream",
     "text": [
      "Already have results for 489 items\n",
      "Need to get results for: 1\n",
      "Number of new labels to consider: 1\n",
      "Created 0 new crops\n",
      "No new crops to run CV\n",
      "Number of new labels is 0\n",
      "Program took: 0.010119251410166423 minutes\n"
     ]
    },
    {
     "ename": "FileNotFoundError",
     "evalue": "[WinError 3] The system cannot find the path specified: '../models'",
     "output_type": "error",
     "traceback": [
      "\u001b[1;31m---------------------------------------------------------------------------\u001b[0m",
      "\u001b[1;31mFileNotFoundError\u001b[0m                         Traceback (most recent call last)",
      "\u001b[1;32m<ipython-input-1-83fd390ba74f>\u001b[0m in \u001b[0;36m<module>\u001b[1;34m\u001b[0m\n\u001b[0;32m      7\u001b[0m \u001b[0minput_file\u001b[0m \u001b[1;33m=\u001b[0m \u001b[1;34m\"validations-seattle.csv\"\u001b[0m\u001b[1;33m\u001b[0m\u001b[1;33m\u001b[0m\u001b[0m\n\u001b[0;32m      8\u001b[0m \u001b[1;32mif\u001b[0m\u001b[1;33m(\u001b[0m\u001b[0mdata\u001b[0m\u001b[1;33m.\u001b[0m\u001b[0mgenerate_results_data\u001b[0m\u001b[1;33m(\u001b[0m\u001b[0minput_file\u001b[0m\u001b[1;33m,\u001b[0m\u001b[0mpath_to_panos\u001b[0m\u001b[1;33m,\u001b[0m \u001b[0mpath_to_summary\u001b[0m\u001b[1;33m,\u001b[0m \u001b[0mnumber_agree\u001b[0m \u001b[1;33m=\u001b[0m \u001b[1;36m5\u001b[0m\u001b[1;33m)\u001b[0m\u001b[1;33m)\u001b[0m\u001b[1;33m:\u001b[0m\u001b[1;33m\u001b[0m\u001b[1;33m\u001b[0m\u001b[0m\n\u001b[1;32m----> 9\u001b[1;33m     \u001b[0mprint\u001b[0m\u001b[1;33m(\u001b[0m\u001b[0mdata\u001b[0m\u001b[1;33m.\u001b[0m\u001b[0mpred_pano_labels\u001b[0m\u001b[1;33m(\u001b[0m\u001b[1;34m\"1a1UlhadSS_3dNtc5oI10Q\"\u001b[0m\u001b[1;33m,\u001b[0m \u001b[1;34m\"panos/\"\u001b[0m\u001b[1;33m,\u001b[0m \u001b[1;36m13312\u001b[0m\u001b[1;33m,\u001b[0m \u001b[1;36m6656\u001b[0m\u001b[1;33m,\u001b[0m \u001b[1;34m\"models/\"\u001b[0m\u001b[1;33m,\u001b[0m \u001b[0mnum_threads\u001b[0m\u001b[1;33m=\u001b[0m\u001b[1;36m4\u001b[0m\u001b[1;33m,\u001b[0m \u001b[0msave_labeled_pano\u001b[0m\u001b[1;33m=\u001b[0m\u001b[1;32mTrue\u001b[0m\u001b[1;33m,\u001b[0m \u001b[0mverbose\u001b[0m\u001b[1;33m=\u001b[0m\u001b[1;32mFalse\u001b[0m\u001b[1;33m)\u001b[0m\u001b[1;33m)\u001b[0m\u001b[1;33m\u001b[0m\u001b[1;33m\u001b[0m\u001b[0m\n\u001b[0m\u001b[0;32m     10\u001b[0m     \u001b[0mprint\u001b[0m\u001b[1;33m(\u001b[0m\u001b[0mdata\u001b[0m\u001b[1;33m.\u001b[0m\u001b[0mpred_pano_labels\u001b[0m\u001b[1;33m(\u001b[0m\u001b[1;34m\"4s6C3NR6YRvHCYKMM_00QQ\"\u001b[0m\u001b[1;33m,\u001b[0m \u001b[1;34m\"panos/\"\u001b[0m\u001b[1;33m,\u001b[0m \u001b[1;36m16384\u001b[0m\u001b[1;33m,\u001b[0m \u001b[1;36m8192\u001b[0m\u001b[1;33m,\u001b[0m \u001b[1;34m\"models/\"\u001b[0m\u001b[1;33m,\u001b[0m \u001b[0mnum_threads\u001b[0m\u001b[1;33m=\u001b[0m\u001b[1;36m4\u001b[0m\u001b[1;33m,\u001b[0m \u001b[0msave_labeled_pano\u001b[0m\u001b[1;33m=\u001b[0m\u001b[1;32mTrue\u001b[0m\u001b[1;33m,\u001b[0m \u001b[0mverbose\u001b[0m\u001b[1;33m=\u001b[0m\u001b[1;32mFalse\u001b[0m\u001b[1;33m)\u001b[0m\u001b[1;33m)\u001b[0m\u001b[1;33m\u001b[0m\u001b[1;33m\u001b[0m\u001b[0m\n",
      "\u001b[1;32m~\\Documents\\SideWalkCV\\sidewalk-cv-tools\\validation\\resources\\Combinedfunctions.py\u001b[0m in \u001b[0;36mpred_pano_labels\u001b[1;34m(pano_id, path_to_gsv_scrapes, GSV_IMAGE_WIDTH, GSV_IMAGE_HEIGHT, model_dir, num_threads, save_labeled_pano, verbose)\u001b[0m\n\u001b[0;32m    378\u001b[0m         \u001b[0mmake_sliding_window_crops\u001b[0m\u001b[1;33m(\u001b[0m\u001b[0mpano_id\u001b[0m\u001b[1;33m,\u001b[0m \u001b[0mGSV_IMAGE_WIDTH\u001b[0m\u001b[1;33m,\u001b[0m \u001b[0mGSV_IMAGE_HEIGHT\u001b[0m\u001b[1;33m,\u001b[0m \u001b[0mpath_to_gsv_scrapes\u001b[0m\u001b[1;33m,\u001b[0m \u001b[0mnum_threads\u001b[0m\u001b[1;33m=\u001b[0m\u001b[0mnum_threads\u001b[0m\u001b[1;33m,\u001b[0m \u001b[0mverbose\u001b[0m\u001b[1;33m=\u001b[0m\u001b[0mverbose\u001b[0m\u001b[1;33m)\u001b[0m\u001b[1;33m\u001b[0m\u001b[1;33m\u001b[0m\u001b[0m\n\u001b[0;32m    379\u001b[0m \u001b[1;33m\u001b[0m\u001b[0m\n\u001b[1;32m--> 380\u001b[1;33m         \u001b[0mmodel_name\u001b[0m \u001b[1;33m=\u001b[0m \u001b[0mutils\u001b[0m\u001b[1;33m.\u001b[0m\u001b[0mget_model_name\u001b[0m\u001b[1;33m(\u001b[0m\u001b[1;33m)\u001b[0m\u001b[1;33m\u001b[0m\u001b[1;33m\u001b[0m\u001b[0m\n\u001b[0m\u001b[0;32m    381\u001b[0m         \u001b[0mmodel_path\u001b[0m \u001b[1;33m=\u001b[0m \u001b[0mos\u001b[0m\u001b[1;33m.\u001b[0m\u001b[0mpath\u001b[0m\u001b[1;33m.\u001b[0m\u001b[0mjoin\u001b[0m\u001b[1;33m(\u001b[0m\u001b[0mmodel_dir\u001b[0m\u001b[1;33m,\u001b[0m \u001b[0mmodel_name\u001b[0m\u001b[1;33m+\u001b[0m\u001b[1;34m'.pt'\u001b[0m\u001b[1;33m)\u001b[0m\u001b[1;33m\u001b[0m\u001b[1;33m\u001b[0m\u001b[0m\n\u001b[0;32m    382\u001b[0m \u001b[1;33m\u001b[0m\u001b[0m\n",
      "\u001b[1;32m~\\Documents\\SideWalkCV\\sidewalk-cv-tools\\validation\\resources\\utils.py\u001b[0m in \u001b[0;36mget_model_name\u001b[1;34m()\u001b[0m\n\u001b[0;32m    446\u001b[0m \u001b[1;33m\u001b[0m\u001b[0m\n\u001b[0;32m    447\u001b[0m \u001b[1;32mdef\u001b[0m \u001b[0mget_model_name\u001b[0m\u001b[1;33m(\u001b[0m\u001b[1;33m)\u001b[0m\u001b[1;33m:\u001b[0m\u001b[1;33m\u001b[0m\u001b[1;33m\u001b[0m\u001b[0m\n\u001b[1;32m--> 448\u001b[1;33m         \u001b[1;32mfor\u001b[0m \u001b[0mfile\u001b[0m \u001b[1;32min\u001b[0m \u001b[0mos\u001b[0m\u001b[1;33m.\u001b[0m\u001b[0mlistdir\u001b[0m\u001b[1;33m(\u001b[0m\u001b[1;34m\"../models\"\u001b[0m\u001b[1;33m)\u001b[0m\u001b[1;33m:\u001b[0m\u001b[1;33m\u001b[0m\u001b[1;33m\u001b[0m\u001b[0m\n\u001b[0m\u001b[0;32m    449\u001b[0m                 \u001b[0mprint\u001b[0m\u001b[1;33m(\u001b[0m\u001b[1;34m\"The current file is \"\u001b[0m \u001b[1;33m+\u001b[0m \u001b[0mfile\u001b[0m\u001b[1;33m)\u001b[0m\u001b[1;33m\u001b[0m\u001b[1;33m\u001b[0m\u001b[0m\n\u001b[0;32m    450\u001b[0m                 \u001b[0mname\u001b[0m\u001b[1;33m,\u001b[0m \u001b[0mext\u001b[0m \u001b[1;33m=\u001b[0m \u001b[0mfile\u001b[0m\u001b[1;33m.\u001b[0m\u001b[0msplit\u001b[0m\u001b[1;33m(\u001b[0m\u001b[1;34m\".\"\u001b[0m\u001b[1;33m)\u001b[0m\u001b[1;33m\u001b[0m\u001b[1;33m\u001b[0m\u001b[0m\n",
      "\u001b[1;31mFileNotFoundError\u001b[0m: [WinError 3] The system cannot find the path specified: '../models'"
     ]
    }
   ],
   "source": [
    "import sys\n",
    "sys.path.append(\"resources\\\\\")\n",
    "import cv_tools as data\n",
    "path_to_panos = \"D:\\\\SeattleImages\\\\validation\\\\panos\\\\new_seattle_panos\\\\\"\n",
    "date_after = \"2018-06-28\"\n",
    "path_to_summary = \"single\\\\\"\n",
    "input_file = \"validations-seattle.csv\"\n",
    "print(data.generate_results_data(input_file,path_to_panos, path_to_summary, number_agree = 5))\n",
    "print(data.pred_pano_labels(\"1a1UlhadSS_3dNtc5oI10Q\", \"panos/\", 13312, 6656, \"models/\", num_threads=4, save_labeled_pano=True, verbose=False))\n",
    "print(data.pred_pano_labels(\"4s6C3NR6YRvHCYKMM_00QQ\", \"panos/\", 16384, 8192, \"models/\", num_threads=4, save_labeled_pano=True, verbose=False))"
   ]
  },
  {
   "cell_type": "code",
   "execution_count": 7,
   "metadata": {},
   "outputs": [
    {
     "name": "stdout",
     "output_type": "stream",
     "text": [
      "[]\n",
      "True\n",
      "True\n"
     ]
    }
   ],
   "source": [
    "import os \n",
    "test = os.listdir(\"single\\\\crops\")\n",
    "initial = \"D:\\\\SeattleImages\\\\validation\\\\panos\\\\new_seattle_panos\\\\Am\" #\\\\Am5I-IBt7UChg-7bt0FzxA.jpg\"\n",
    "path = \"D:\\\\SeattleImages\\\\validation\\\\panos\\\\new_seattle_panos\\\\aM\\\\aMBcGpRwygiZtOwbAWh5Og.jpg\"\n",
    "print(test)\n",
    "print(os.path.exists(\"D:\\\\SeattleImages\\\\validation\\\\panos\\\\new_seattle_panos\\\\\"))\n",
    "modeling = \"models/20ep_sw_re18_2ff2.pt\"\n",
    "print(os.path.exists(modeling))"
   ]
  },
  {
   "cell_type": "code",
   "execution_count": 1,
   "metadata": {},
   "outputs": [],
   "source": [
    "#Time stamp, Pano_Id, X, Y, label type\n",
    "import os\n",
    "import csv\n",
    "def con(path, convert):\n",
    "    rows = []\n",
    "    if(os.path.exists(path)):\n",
    "        with open(path) as csvfile:\n",
    "            csvreader = csv.reader(csvfile, delimiter=',')\n",
    "            next(csvreader)\n",
    "            for row in csvreader:\n",
    "                time_stamp = row[0]\n",
    "                pano_id = row[2]\n",
    "                x = row[3]\n",
    "                y = row[4]\n",
    "                works = (row[5] == \"agree\")\n",
    "                if not works:\n",
    "                    continue\n",
    "                label = row[6]\n",
    "                rows.append([time_stamp,pano_id,x,y,label])\n",
    "    with open(convert, 'w+', newline='') as csvfile:\n",
    "        writer = csv.writer(csvfile)\n",
    "        for row in rows:\n",
    "            writer.writerow(row)\n",
    "start = \"validations-seattle.csv\"\n",
    "end = \"labels-seattle.csv\"\n",
    "con(start,end)"
   ]
  },
  {
   "cell_type": "code",
   "execution_count": null,
   "metadata": {},
   "outputs": [],
   "source": [
    "import generate_annotations as gen\n",
    "path_to_panos = \"panos\"\n",
    "pano_id = \"1a1UlhadSS_3dNtc5oI10Q\""
   ]
  }
 ],
 "metadata": {
  "kernelspec": {
   "display_name": "Python 3",
   "language": "python",
   "name": "python3"
  },
  "language_info": {
   "codemirror_mode": {
    "name": "ipython",
    "version": 3
   },
   "file_extension": ".py",
   "mimetype": "text/x-python",
   "name": "python",
   "nbconvert_exporter": "python",
   "pygments_lexer": "ipython3",
   "version": "3.7.3"
  }
 },
 "nbformat": 4,
 "nbformat_minor": 2
}
