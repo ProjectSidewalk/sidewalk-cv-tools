{
 "cells": [
  {
   "cell_type": "code",
   "execution_count": 1,
   "metadata": {},
   "outputs": [
    {
     "name": "stdout",
     "output_type": "stream",
     "text": [
      "['C:\\\\Users\\\\deves\\\\Documents\\\\SideWalkCV\\\\sidewalk-cv-tools\\\\validation\\\\resources', 'C:\\\\Users\\\\deves\\\\Anaconda3\\\\python37.zip', 'C:\\\\Users\\\\deves\\\\Anaconda3\\\\DLLs', 'C:\\\\Users\\\\deves\\\\Anaconda3\\\\lib', 'C:\\\\Users\\\\deves\\\\Anaconda3', '', 'C:\\\\Users\\\\deves\\\\Anaconda3\\\\lib\\\\site-packages', 'C:\\\\Users\\\\deves\\\\Anaconda3\\\\lib\\\\site-packages\\\\win32', 'C:\\\\Users\\\\deves\\\\Anaconda3\\\\lib\\\\site-packages\\\\win32\\\\lib', 'C:\\\\Users\\\\deves\\\\Anaconda3\\\\lib\\\\site-packages\\\\Pythonwin', 'C:\\\\Users\\\\deves\\\\Anaconda3\\\\lib\\\\site-packages\\\\IPython\\\\extensions', 'C:\\\\Users\\\\deves\\\\.ipython', 'C:\\\\Users\\\\deves\\\\Documents\\\\SideWalkCV\\\\sidewalk-cv-tools\\\\validation']\n",
      "['.ipynb_checkpoints', 'DownloadPano.py', 'GenerateGraph.py', 'GraphGenerator.ipynb', 'make_graph.py', 'models', 'panos', 'resources', 'roboto.ttf', 'Runner.ipynb', 'samples', 'single', 'temp', 'validations-seattle.csv', 'viz', '__init__.py']\n",
      "['.ipynb_checkpoints', '20ep_sw_re18_2ff2.log', '20ep_sw_re18_2ff2.pt', 'Temo.txt']\n"
     ]
    }
   ],
   "source": [
    "import sys\n",
    "import os\n",
    "import inspect \n",
    "currentdir = os.path.dirname(os.path.abspath(inspect.getfile(inspect.currentframe())))\n",
    "parentdir = os.path.dirname(currentdir)\n",
    "sys.path.append(parentdir)\n",
    "print(sys.path)\n",
    "print(os.listdir(parentdir))\n",
    "temp = \"../panos/1a/1a1UlhadSS_3dNtc5oI10Q.xml\"\n",
    "print(os.listdir(\"../models\"))"
   ]
  },
  {
   "cell_type": "code",
   "execution_count": null,
   "metadata": {},
   "outputs": [],
   "source": []
  }
 ],
 "metadata": {
  "kernelspec": {
   "display_name": "Python 3",
   "language": "python",
   "name": "python3"
  },
  "language_info": {
   "codemirror_mode": {
    "name": "ipython",
    "version": 3
   },
   "file_extension": ".py",
   "mimetype": "text/x-python",
   "name": "python",
   "nbconvert_exporter": "python",
   "pygments_lexer": "ipython3",
   "version": "3.7.3"
  }
 },
 "nbformat": 4,
 "nbformat_minor": 2
}
