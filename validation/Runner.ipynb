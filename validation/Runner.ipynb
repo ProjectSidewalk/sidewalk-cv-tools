{
 "cells": [
  {
   "cell_type": "code",
   "execution_count": 1,
   "metadata": {},
   "outputs": [
    {
     "name": "stdout",
     "output_type": "stream",
     "text": [
      "Already have results for 6719 items\n",
      "Length of dict_valid 5316\n",
      "Number of points in dict_image is 5316\n",
      "Created 0 new crops\n",
      "Delted a old compeltelabels file\n",
      "No new crops to run CV\n",
      "Length of rows_dict is 0\n",
      "Length of labels_list is 5316\n",
      "Label row count is 0\n",
      "Number of new labels is 0\n",
      "Ignorning took: 4.25798773765564\n"
     ]
    },
    {
     "data": {
      "text/plain": [
       "True"
      ]
     },
     "execution_count": 1,
     "metadata": {},
     "output_type": "execute_result"
    }
   ],
   "source": [
    "import get_validation_Data as data\n",
    "path_to_panos = \"D:\\\\SeattleImages\\\\validation\\\\panos\\\\new_seattle_panos\\\\\"\n",
    "date_after = \"2018-06-28\"\n",
    "input_file = \"validations-seattle.csv\"\n",
    "data.generate_results_data(input_file,date_after,path_to_panos)\n",
    "#data.test_scrapes_dump()"
   ]
  },
  {
   "cell_type": "code",
   "execution_count": 5,
   "metadata": {},
   "outputs": [
    {
     "name": "stdout",
     "output_type": "stream",
     "text": [
      "[]\n"
     ]
    }
   ],
   "source": [
    "import os \n",
    "test = os.listdir(\"single\\\\crops\")\n",
    "initial = \"D:\\\\SeattleImages\\\\validation\\\\panos\\\\new_seattle_panos\\\\Am\" #\\\\Am5I-IBt7UChg-7bt0FzxA.jpg\"\n",
    "path = \"D:\\\\SeattleImages\\\\validation\\\\panos\\\\new_seattle_panos\\\\aM\\\\aMBcGpRwygiZtOwbAWh5Og.jpg\"\n",
    "print(test)"
   ]
  },
  {
   "cell_type": "code",
   "execution_count": null,
   "metadata": {},
   "outputs": [],
   "source": []
  }
 ],
 "metadata": {
  "kernelspec": {
   "display_name": "Python 3",
   "language": "python",
   "name": "python3"
  },
  "language_info": {
   "codemirror_mode": {
    "name": "ipython",
    "version": 3
   },
   "file_extension": ".py",
   "mimetype": "text/x-python",
   "name": "python",
   "nbconvert_exporter": "python",
   "pygments_lexer": "ipython3",
   "version": "3.7.3"
  }
 },
 "nbformat": 4,
 "nbformat_minor": 2
}
