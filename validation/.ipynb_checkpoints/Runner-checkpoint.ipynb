{
 "cells": [
  {
   "cell_type": "code",
   "execution_count": 1,
   "metadata": {},
   "outputs": [
    {
     "ename": "SyntaxError",
     "evalue": "invalid syntax (get_validation_Data.py, line 147)",
     "output_type": "error",
     "traceback": [
      "Traceback \u001b[1;36m(most recent call last)\u001b[0m:\n",
      "  File \u001b[0;32m\"C:\\Users\\deves\\Anaconda3\\lib\\site-packages\\IPython\\core\\interactiveshell.py\"\u001b[0m, line \u001b[0;32m3296\u001b[0m, in \u001b[0;35mrun_code\u001b[0m\n    exec(code_obj, self.user_global_ns, self.user_ns)\n",
      "\u001b[1;36m  File \u001b[1;32m\"<ipython-input-1-39e4b9949171>\"\u001b[1;36m, line \u001b[1;32m1\u001b[1;36m, in \u001b[1;35m<module>\u001b[1;36m\u001b[0m\n\u001b[1;33m    import get_validation_Data as data\u001b[0m\n",
      "\u001b[1;36m  File \u001b[1;32m\"C:\\Users\\deves\\Documents\\SideWalkCV\\sidewalk-cv-tools\\validation\\get_validation_Data.py\"\u001b[1;36m, line \u001b[1;32m147\u001b[0m\n\u001b[1;33m    if(len(os.listdir(\"single\\\\crops\") > 0):\u001b[0m\n\u001b[1;37m                                           ^\u001b[0m\n\u001b[1;31mSyntaxError\u001b[0m\u001b[1;31m:\u001b[0m invalid syntax\n"
     ]
    }
   ],
   "source": [
    "import get_validation_Data as data\n",
    "path_to_panos = \"D:\\\\SeattleImages\\\\validation\\\\panos\\\\new_seattle_panos\\\\\"\n",
    "date_after = \"2018-06-28\"\n",
    "input_file = \"validations-seattle.csv\"\n",
    "data.generate_results_data(input_file,date_after,path_to_panos)\n",
    "#data.test_scrapes_dump()"
   ]
  },
  {
   "cell_type": "code",
   "execution_count": 5,
   "metadata": {},
   "outputs": [
    {
     "name": "stdout",
     "output_type": "stream",
     "text": [
      "[]\n"
     ]
    }
   ],
   "source": [
    "import os \n",
    "test = os.listdir(\"single\\\\crops\")\n",
    "initial = \"D:\\\\SeattleImages\\\\validation\\\\panos\\\\new_seattle_panos\\\\Am\" #\\\\Am5I-IBt7UChg-7bt0FzxA.jpg\"\n",
    "path = \"D:\\\\SeattleImages\\\\validation\\\\panos\\\\new_seattle_panos\\\\aM\\\\aMBcGpRwygiZtOwbAWh5Og.jpg\"\n",
    "print(test)"
   ]
  },
  {
   "cell_type": "code",
   "execution_count": null,
   "metadata": {},
   "outputs": [],
   "source": []
  }
 ],
 "metadata": {
  "kernelspec": {
   "display_name": "Python 3",
   "language": "python",
   "name": "python3"
  },
  "language_info": {
   "codemirror_mode": {
    "name": "ipython",
    "version": 3
   },
   "file_extension": ".py",
   "mimetype": "text/x-python",
   "name": "python",
   "nbconvert_exporter": "python",
   "pygments_lexer": "ipython3",
   "version": "3.7.3"
  }
 },
 "nbformat": 4,
 "nbformat_minor": 2
}
